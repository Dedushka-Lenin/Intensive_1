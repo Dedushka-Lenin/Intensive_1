{
 "cells": [
  {
   "cell_type": "markdown",
   "metadata": {},
   "source": [
    "_______________________________________________________________________________________________\n",
    "\n",
    "Выводит таблицы"
   ]
  },
  {
   "cell_type": "code",
   "execution_count": 8,
   "metadata": {},
   "outputs": [
    {
     "name": "stdout",
     "output_type": "stream",
     "text": [
      "<class 'pandas.core.frame.DataFrame'>\n",
      "RangeIndex: 6725 entries, 0 to 6724\n",
      "Data columns (total 10 columns):\n",
      " #   Column                    Non-Null Count  Dtype  \n",
      "---  ------                    --------------  -----  \n",
      " 0   author_type               6725 non-null   object \n",
      " 1   url                       6725 non-null   object \n",
      " 2   floor                     6725 non-null   int64  \n",
      " 3   floors_count              6725 non-null   int64  \n",
      " 4   rooms_count               6725 non-null   int64  \n",
      " 5   total_meters              6725 non-null   float64\n",
      " 6   price                     6725 non-null   int64  \n",
      " 7   underground               6170 non-null   object \n",
      " 8   availability_underground  6725 non-null   bool   \n",
      " 9   price_per_meter           6725 non-null   int64  \n",
      "dtypes: bool(1), float64(1), int64(5), object(3)\n",
      "memory usage: 479.5+ KB\n"
     ]
    }
   ],
   "source": [
    "import numpy as np\n",
    "import pandas as pd\n",
    "import matplotlib.pyplot as plt\n",
    "import seaborn as sns\n",
    "\n",
    "df = pd.read_csv(\"base.csv\")\n",
    "# df = pd.read_csv(\"result.csv\")\n",
    "df.info()"
   ]
  },
  {
   "cell_type": "markdown",
   "metadata": {},
   "source": [
    "____________________________________________________________________________________________________________________________________________________________________________________________\n",
    "\n",
    "Изменение типа данных столбца"
   ]
  },
  {
   "cell_type": "code",
   "execution_count": 6,
   "metadata": {},
   "outputs": [],
   "source": [
    "path_base = \"base.csv\"\n",
    "\n",
    "df = pd.read_csv(path_base)\n",
    "\n",
    "tt = ['price']\n",
    "\n",
    "for elm in tt:\n",
    "    df[tt] = df[tt].astype(int)\n",
    "\n",
    "df.to_csv( path_base, index=False, encoding='utf-8-sig')"
   ]
  },
  {
   "cell_type": "markdown",
   "metadata": {},
   "source": [
    "_________________________________________________________________________________________________________________________________________________________________________________________\n",
    "\n",
    "Удаление столбцов"
   ]
  },
  {
   "cell_type": "code",
   "execution_count": null,
   "metadata": {},
   "outputs": [
    {
     "name": "stdout",
     "output_type": "stream",
     "text": [
      "<class 'pandas.core.frame.DataFrame'>\n",
      "RangeIndex: 3542 entries, 0 to 3541\n",
      "Data columns (total 8 columns):\n",
      " #   Column        Non-Null Count  Dtype  \n",
      "---  ------        --------------  -----  \n",
      " 0   author_type   3542 non-null   object \n",
      " 1   url           3542 non-null   object \n",
      " 2   floor         3542 non-null   int64  \n",
      " 3   floors_count  3542 non-null   int64  \n",
      " 4   rooms_count   3542 non-null   int64  \n",
      " 5   total_meters  3542 non-null   float64\n",
      " 6   price         3542 non-null   float64\n",
      " 7   underground   3011 non-null   object \n",
      "dtypes: float64(2), int64(3), object(3)\n",
      "memory usage: 221.5+ KB\n"
     ]
    }
   ],
   "source": [
    "import pandas as pd\n",
    "\n",
    "path_base = \"result.csv\"\n",
    "path_res = \"result.csv\"\n",
    "\n",
    "df = pd.read_csv(path_base)\n",
    "total = df.drop(['author','location','deal_type','accommodation_type','price_per_month','commissions','street','house_number','district','residential_complex'], axis=1)\n",
    "total.info()\n",
    "\n",
    "total.to_csv( path_res, index=False, encoding='utf-8-sig')"
   ]
  },
  {
   "cell_type": "markdown",
   "metadata": {},
   "source": [
    "_________________________________________________________________________________________________________________________________________________________________________________________\n",
    "\n",
    "Удаление строк"
   ]
  },
  {
   "cell_type": "code",
   "execution_count": null,
   "metadata": {},
   "outputs": [],
   "source": [
    "import pandas as pd\n",
    "\n",
    "path_base = \"result.csv\"\n",
    "\n",
    "df = pd.read_csv(path_base)\n",
    "df = df.dropna(subset=['author_type','url','floor','floors_count','rooms_count','total_meters','price'])\n",
    "df.to_csv(path_base, index=False)"
   ]
  },
  {
   "cell_type": "markdown",
   "metadata": {},
   "source": [
    "______________________________________________________________________________________________________________________________________________________________________________________________\n",
    "\n",
    "Удаление дубликатов"
   ]
  },
  {
   "cell_type": "code",
   "execution_count": 1,
   "metadata": {},
   "outputs": [],
   "source": [
    "import pandas as pd\n",
    "\n",
    "path_base = \"base.csv\"\n",
    "\n",
    "data = pd.read_csv(path_base)\n",
    "data = data.drop_duplicates()\n",
    "data.to_csv(path_base, index=False)"
   ]
  },
  {
   "cell_type": "markdown",
   "metadata": {},
   "source": [
    "__________________________________________________________________________________________________________________________________________________________________________________________________________\n",
    "\n",
    "Создание доп данных"
   ]
  },
  {
   "cell_type": "code",
   "execution_count": null,
   "metadata": {},
   "outputs": [],
   "source": [
    "import pandas as pd\n",
    "\n",
    "path_base = \"base.csv\"\n",
    "data = pd.read_csv(path_base)\n",
    "\n",
    "def metro(row):\n",
    "    if pd.isna(row['underground']): return False\n",
    "    return True\n",
    "\n",
    "def meters(row):\n",
    "    return round(row['price']/row['total_meters'])\n",
    "\n",
    "data['availability_underground'] = data.apply(metro, axis=1)\n",
    "data['price_per_meter'] = data.apply(meters, axis=1)\n",
    "data.to_csv(path_base, index=False)"
   ]
  }
 ],
 "metadata": {
  "kernelspec": {
   "display_name": ".venv",
   "language": "python",
   "name": "python3"
  },
  "language_info": {
   "codemirror_mode": {
    "name": "ipython",
    "version": 3
   },
   "file_extension": ".py",
   "mimetype": "text/x-python",
   "name": "python",
   "nbconvert_exporter": "python",
   "pygments_lexer": "ipython3",
   "version": "3.11.9"
  }
 },
 "nbformat": 4,
 "nbformat_minor": 2
}
