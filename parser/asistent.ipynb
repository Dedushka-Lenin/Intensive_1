{
 "cells": [
  {
   "cell_type": "markdown",
   "metadata": {},
   "source": [
    "_______________________________________________________________________________________________\n",
    "\n",
    "Тест"
   ]
  },
  {
   "cell_type": "code",
   "execution_count": 1,
   "metadata": {},
   "outputs": [
    {
     "name": "stdout",
     "output_type": "stream",
     "text": [
      "<class 'pandas.core.frame.DataFrame'>\n",
      "RangeIndex: 28 entries, 0 to 27\n",
      "Data columns (total 18 columns):\n",
      " #   Column               Non-Null Count  Dtype  \n",
      "---  ------               --------------  -----  \n",
      " 0   author               28 non-null     object \n",
      " 1   author_type          28 non-null     object \n",
      " 2   url                  28 non-null     object \n",
      " 3   location             28 non-null     object \n",
      " 4   deal_type            28 non-null     object \n",
      " 5   accommodation_type   28 non-null     object \n",
      " 6   floor                28 non-null     int64  \n",
      " 7   floors_count         28 non-null     int64  \n",
      " 8   rooms_count          28 non-null     int64  \n",
      " 9   total_meters         28 non-null     float64\n",
      " 10  price_per_month      28 non-null     int64  \n",
      " 11  commissions          28 non-null     int64  \n",
      " 12  price                27 non-null     float64\n",
      " 13  district             27 non-null     object \n",
      " 14  street               23 non-null     object \n",
      " 15  house_number         23 non-null     object \n",
      " 16  underground          28 non-null     object \n",
      " 17  residential_complex  18 non-null     object \n",
      "dtypes: float64(2), int64(5), object(11)\n",
      "memory usage: 4.1+ KB\n"
     ]
    }
   ],
   "source": [
    "import numpy as np\n",
    "import pandas as pd\n",
    "import matplotlib.pyplot as plt\n",
    "import seaborn as sns\n",
    "\n",
    "# df = pd.read_csv(\"base/base_1_Москва_1_1.csv\")\n",
    "df = pd.read_csv(\"base/base.csv\")\n",
    "df.info()"
   ]
  },
  {
   "cell_type": "code",
   "execution_count": null,
   "metadata": {},
   "outputs": [],
   "source": [
    "# print(\"Unique values in Levy\\n\",df['Levy'].unique())\n",
    "# df['Levy'][df['Levy'] == '-']\n",
    "\n",
    "# df['Levy'] = pd.to_numeric(df['Levy'], errors='coerce')\n",
    "# df['Levy']"
   ]
  },
  {
   "cell_type": "code",
   "execution_count": null,
   "metadata": {},
   "outputs": [],
   "source": [
    "df = pd.read_csv(\"base/base.csv\")\n",
    "total = df.drop(['scheme', 'vehicles', 'participants'], axis=1)\n",
    "total.info()"
   ]
  }
 ],
 "metadata": {
  "kernelspec": {
   "display_name": ".venv",
   "language": "python",
   "name": "python3"
  },
  "language_info": {
   "codemirror_mode": {
    "name": "ipython",
    "version": 3
   },
   "file_extension": ".py",
   "mimetype": "text/x-python",
   "name": "python",
   "nbconvert_exporter": "python",
   "pygments_lexer": "ipython3",
   "version": "3.11.9"
  }
 },
 "nbformat": 4,
 "nbformat_minor": 2
}
