{
 "cells": [
  {
   "cell_type": "markdown",
   "metadata": {},
   "source": [
    "_______________________________________________________________________________________________\n",
    "\n",
    "Тест"
   ]
  },
  {
   "cell_type": "code",
   "execution_count": 9,
   "metadata": {},
   "outputs": [
    {
     "name": "stdout",
     "output_type": "stream",
     "text": [
      "<class 'pandas.core.frame.DataFrame'>\n",
      "RangeIndex: 15631 entries, 0 to 15630\n",
      "Data columns (total 18 columns):\n",
      " #   Column               Non-Null Count  Dtype \n",
      "---  ------               --------------  ----- \n",
      " 0   author               15511 non-null  object\n",
      " 1   author_type          15511 non-null  object\n",
      " 2   url                  15631 non-null  object\n",
      " 3   location             15631 non-null  object\n",
      " 4   deal_type            15631 non-null  object\n",
      " 5   accommodation_type   15631 non-null  object\n",
      " 6   floor                15631 non-null  object\n",
      " 7   floors_count         15631 non-null  object\n",
      " 8   rooms_count          15631 non-null  object\n",
      " 9   total_meters         15631 non-null  object\n",
      " 10  price_per_month      15631 non-null  object\n",
      " 11  commissions          15631 non-null  object\n",
      " 12  price                15605 non-null  object\n",
      " 13  district             11379 non-null  object\n",
      " 14  street               10923 non-null  object\n",
      " 15  house_number         11660 non-null  object\n",
      " 16  underground          11235 non-null  object\n",
      " 17  residential_complex  11430 non-null  object\n",
      "dtypes: object(18)\n",
      "memory usage: 2.1+ MB\n"
     ]
    }
   ],
   "source": [
    "import numpy as np\n",
    "import pandas as pd\n",
    "import matplotlib.pyplot as plt\n",
    "import seaborn as sns\n",
    "\n",
    "# df = pd.read_csv(\"base/base_1_Москва_1_1.csv\")\n",
    "df = pd.read_csv(\"base/base.csv\")\n",
    "df.info()"
   ]
  },
  {
   "cell_type": "code",
   "execution_count": 20,
   "metadata": {},
   "outputs": [
    {
     "data": {
      "text/plain": [
       "0        ZAPAD REALTY - офис Маршала Жукова\n",
       "1                           PROНЕДВИЖИМОСТЬ\n",
       "2                                  Дипломат\n",
       "3                             Kalinka Group\n",
       "4                            ЛЮДИ ДЛЯ ЛЮДЕЙ\n",
       "                        ...                \n",
       "15626                      САДОВЫЕ КВАРТАЛЫ\n",
       "15627                 Intermark Real Estate\n",
       "15628                               VOS'HOD\n",
       "15629                    Point Estate Город\n",
       "15630                           NIKA ESTATE\n",
       "Name: author, Length: 15631, dtype: object"
      ]
     },
     "execution_count": 20,
     "metadata": {},
     "output_type": "execute_result"
    }
   ],
   "source": [
    "# print(\"Unique values in author\\n\",df['author'].unique())\n",
    "\n",
    "df = pd.read_csv(\"base/base.csv\")\n",
    "\n",
    "df['author'] = df['author'].astype(str)\n",
    "df['author']"
   ]
  },
  {
   "cell_type": "code",
   "execution_count": 8,
   "metadata": {},
   "outputs": [
    {
     "name": "stdout",
     "output_type": "stream",
     "text": [
      "<class 'pandas.core.frame.DataFrame'>\n",
      "RangeIndex: 15631 entries, 0 to 15630\n",
      "Data columns (total 15 columns):\n",
      " #   Column               Non-Null Count  Dtype \n",
      "---  ------               --------------  ----- \n",
      " 0   author               15511 non-null  object\n",
      " 1   author_type          15511 non-null  object\n",
      " 2   url                  15631 non-null  object\n",
      " 3   location             15631 non-null  object\n",
      " 4   floor                15631 non-null  object\n",
      " 5   floors_count         15631 non-null  object\n",
      " 6   rooms_count          15631 non-null  object\n",
      " 7   total_meters         15631 non-null  object\n",
      " 8   commissions          15631 non-null  object\n",
      " 9   price                15605 non-null  object\n",
      " 10  district             11379 non-null  object\n",
      " 11  street               10923 non-null  object\n",
      " 12  house_number         11660 non-null  object\n",
      " 13  underground          11235 non-null  object\n",
      " 14  residential_complex  11430 non-null  object\n",
      "dtypes: object(15)\n",
      "memory usage: 1.8+ MB\n"
     ]
    }
   ],
   "source": [
    "import pandas as pd\n",
    "\n",
    "df = pd.read_csv(\"base/base.csv\")\n",
    "total = df.drop(['price_per_month', 'deal_type', 'accommodation_type'], axis=1)\n",
    "total.info()\n",
    "\n",
    "total.to_csv( \"./res.csv\", index=False, encoding='utf-8-sig')"
   ]
  }
 ],
 "metadata": {
  "kernelspec": {
   "display_name": ".venv",
   "language": "python",
   "name": "python3"
  },
  "language_info": {
   "codemirror_mode": {
    "name": "ipython",
    "version": 3
   },
   "file_extension": ".py",
   "mimetype": "text/x-python",
   "name": "python",
   "nbconvert_exporter": "python",
   "pygments_lexer": "ipython3",
   "version": "3.11.9"
  }
 },
 "nbformat": 4,
 "nbformat_minor": 2
}
