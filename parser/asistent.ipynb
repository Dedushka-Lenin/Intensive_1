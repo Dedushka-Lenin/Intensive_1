{
 "cells": [
  {
   "cell_type": "markdown",
   "metadata": {},
   "source": [
    "_______________________________________________________________________________________________\n",
    "\n",
    "Выводит таблицы"
   ]
  },
  {
   "cell_type": "code",
   "execution_count": 52,
   "metadata": {},
   "outputs": [
    {
     "name": "stdout",
     "output_type": "stream",
     "text": [
      "<class 'pandas.core.frame.DataFrame'>\n",
      "RangeIndex: 4926 entries, 0 to 4925\n",
      "Data columns (total 15 columns):\n",
      " #   Column               Non-Null Count  Dtype  \n",
      "---  ------               --------------  -----  \n",
      " 0   author               4847 non-null   object \n",
      " 1   author_type          4847 non-null   object \n",
      " 2   url                  4926 non-null   object \n",
      " 3   location             4926 non-null   object \n",
      " 4   floor                4926 non-null   int64  \n",
      " 5   floors_count         4926 non-null   int64  \n",
      " 6   rooms_count          4926 non-null   int64  \n",
      " 7   total_meters         4926 non-null   float64\n",
      " 8   commissions          4926 non-null   int64  \n",
      " 9   price                4907 non-null   float64\n",
      " 10  district             3608 non-null   object \n",
      " 11  street               3619 non-null   object \n",
      " 12  house_number         4263 non-null   object \n",
      " 13  underground          4238 non-null   object \n",
      " 14  residential_complex  3548 non-null   object \n",
      "dtypes: float64(2), int64(4), object(9)\n",
      "memory usage: 577.4+ KB\n"
     ]
    }
   ],
   "source": [
    "import numpy as np\n",
    "import pandas as pd\n",
    "import matplotlib.pyplot as plt\n",
    "import seaborn as sns\n",
    "\n",
    "# df = pd.read_csv(\"base/base_1_Москва_1_1.csv\")\n",
    "df = pd.read_csv(\"base/base.csv\")\n",
    "# df = pd.read_csv(\"res.csv\")\n",
    "df.info()"
   ]
  },
  {
   "cell_type": "markdown",
   "metadata": {},
   "source": [
    "____________________________________________________________________________________________________________________________________________________________________________________________\n",
    "\n",
    "Изменение типа данных столбца"
   ]
  },
  {
   "cell_type": "code",
   "execution_count": 46,
   "metadata": {},
   "outputs": [],
   "source": [
    "path_base = \"base/base.csv\"\n",
    "\n",
    "df = pd.read_csv(path_base)\n",
    "\n",
    "tt = ['floors_count', 'rooms_count', 'commissions']\n",
    "\n",
    "for elm in tt:\n",
    "    df[tt] = df[tt].astype(int)\n",
    "\n",
    "df.to_csv( path_base, index=False, encoding='utf-8-sig')"
   ]
  },
  {
   "cell_type": "markdown",
   "metadata": {},
   "source": [
    "_________________________________________________________________________________________________________________________________________________________________________________________\n",
    "\n",
    "Удаление столбцов"
   ]
  },
  {
   "cell_type": "code",
   "execution_count": 55,
   "metadata": {},
   "outputs": [
    {
     "name": "stdout",
     "output_type": "stream",
     "text": [
      "<class 'pandas.core.frame.DataFrame'>\n",
      "RangeIndex: 4926 entries, 0 to 4925\n",
      "Data columns (total 11 columns):\n",
      " #   Column        Non-Null Count  Dtype  \n",
      "---  ------        --------------  -----  \n",
      " 0   author_type   4847 non-null   object \n",
      " 1   url           4926 non-null   object \n",
      " 2   location      4926 non-null   object \n",
      " 3   floor         4926 non-null   int64  \n",
      " 4   floors_count  4926 non-null   int64  \n",
      " 5   rooms_count   4926 non-null   int64  \n",
      " 6   total_meters  4926 non-null   float64\n",
      " 7   commissions   4926 non-null   int64  \n",
      " 8   price         4907 non-null   float64\n",
      " 9   district      3608 non-null   object \n",
      " 10  underground   4238 non-null   object \n",
      "dtypes: float64(2), int64(4), object(5)\n",
      "memory usage: 423.5+ KB\n"
     ]
    }
   ],
   "source": [
    "import pandas as pd\n",
    "\n",
    "path_base = \"base/base.csv\"\n",
    "path_res = \"base/base.csv\"\n",
    "\n",
    "df = pd.read_csv(\"base/base.csv\")\n",
    "total = df.drop(['author', 'street', 'house_number', 'residential_complex'], axis=1)\n",
    "total.info()\n",
    "\n",
    "total.to_csv( \"base/base.csv\", index=False, encoding='utf-8-sig')"
   ]
  },
  {
   "cell_type": "markdown",
   "metadata": {},
   "source": [
    "_________________________________________________________________________________________________________________________________________________________________________________________\n",
    "\n",
    "Удаление строк"
   ]
  },
  {
   "cell_type": "code",
   "execution_count": null,
   "metadata": {},
   "outputs": [],
   "source": [
    "import pandas as pd\n",
    "\n",
    "path_base = \"base/base.csv\"\n",
    "\n",
    "df = pd.read_csv(path_base)\n",
    "df = df[df['столбец'] != 'значение']\n",
    "df.to_csv(path_base, index=False)"
   ]
  },
  {
   "cell_type": "markdown",
   "metadata": {},
   "source": [
    "______________________________________________________________________________________________________________________________________________________________________________________________\n",
    "\n",
    "Удаление дубликатов"
   ]
  },
  {
   "cell_type": "code",
   "execution_count": 50,
   "metadata": {},
   "outputs": [],
   "source": [
    "import pandas as pd\n",
    "\n",
    "path_base = \"base/base.csv\"\n",
    "\n",
    "data = pd.read_csv(path_base)\n",
    "data = data.drop_duplicates()\n",
    "data.to_csv(path_base, index=False)"
   ]
  },
  {
   "cell_type": "code",
   "execution_count": null,
   "metadata": {},
   "outputs": [],
   "source": [
    "import pandas as pd\n",
    "\n",
    "path_base = \"base/base.csv\"\n",
    "\n",
    "data = pd.read_csv(path_base)\n",
    "\n",
    "data['commissions']"
   ]
  }
 ],
 "metadata": {
  "kernelspec": {
   "display_name": ".venv",
   "language": "python",
   "name": "python3"
  },
  "language_info": {
   "codemirror_mode": {
    "name": "ipython",
    "version": 3
   },
   "file_extension": ".py",
   "mimetype": "text/x-python",
   "name": "python",
   "nbconvert_exporter": "python",
   "pygments_lexer": "ipython3",
   "version": "3.11.9"
  }
 },
 "nbformat": 4,
 "nbformat_minor": 2
}
