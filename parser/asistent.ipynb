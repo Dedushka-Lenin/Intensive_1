{
 "cells": [
  {
   "cell_type": "markdown",
   "metadata": {},
   "source": [
    "_______________________________________________________________________________________________\n",
    "\n",
    "Выводит таблицы"
   ]
  },
  {
   "cell_type": "code",
   "execution_count": 48,
   "metadata": {},
   "outputs": [
    {
     "name": "stdout",
     "output_type": "stream",
     "text": [
      "<class 'pandas.core.frame.DataFrame'>\n",
      "RangeIndex: 15580 entries, 0 to 15579\n",
      "Data columns (total 15 columns):\n",
      " #   Column               Non-Null Count  Dtype  \n",
      "---  ------               --------------  -----  \n",
      " 0   author               15460 non-null  object \n",
      " 1   author_type          15460 non-null  object \n",
      " 2   url                  15580 non-null  object \n",
      " 3   location             15580 non-null  object \n",
      " 4   floor                15580 non-null  int64  \n",
      " 5   floors_count         15580 non-null  int64  \n",
      " 6   rooms_count          15580 non-null  int64  \n",
      " 7   total_meters         15580 non-null  float64\n",
      " 8   commissions          15580 non-null  int64  \n",
      " 9   price                15554 non-null  float64\n",
      " 10  district             11331 non-null  object \n",
      " 11  street               10872 non-null  object \n",
      " 12  house_number         11609 non-null  object \n",
      " 13  underground          11184 non-null  object \n",
      " 14  residential_complex  11382 non-null  object \n",
      "dtypes: float64(2), int64(4), object(9)\n",
      "memory usage: 1.8+ MB\n"
     ]
    }
   ],
   "source": [
    "import numpy as np\n",
    "import pandas as pd\n",
    "import matplotlib.pyplot as plt\n",
    "import seaborn as sns\n",
    "\n",
    "# df = pd.read_csv(\"base/base_1_Москва_1_1.csv\")\n",
    "df = pd.read_csv(\"base/base.csv\")\n",
    "# df = pd.read_csv(\"res.csv\")\n",
    "df.info()"
   ]
  },
  {
   "cell_type": "markdown",
   "metadata": {},
   "source": [
    "____________________________________________________________________________________________________________________________________________________________________________________________\n",
    "\n",
    "Изменение типа данных столбца"
   ]
  },
  {
   "cell_type": "code",
   "execution_count": 46,
   "metadata": {},
   "outputs": [],
   "source": [
    "path_base = \"base/base.csv\"\n",
    "\n",
    "df = pd.read_csv(path_base)\n",
    "\n",
    "tt = ['floors_count', 'rooms_count', 'commissions']\n",
    "\n",
    "for elm in tt:\n",
    "    df[tt] = df[tt].astype(int)\n",
    "\n",
    "df.to_csv( path_base, index=False, encoding='utf-8-sig')"
   ]
  },
  {
   "cell_type": "markdown",
   "metadata": {},
   "source": [
    "_________________________________________________________________________________________________________________________________________________________________________________________\n",
    "\n",
    "Удаление столбцов"
   ]
  },
  {
   "cell_type": "code",
   "execution_count": null,
   "metadata": {},
   "outputs": [],
   "source": [
    "import pandas as pd\n",
    "\n",
    "path_base = \"base/base.csv\"\n",
    "path_res = \"./res.csv\"\n",
    "\n",
    "df = pd.read_csv(\"base/base.csv\")\n",
    "total = df.drop(['price_per_month', 'deal_type', 'accommodation_type'], axis=1)\n",
    "total.info()\n",
    "\n",
    "total.to_csv( \"./res.csv\", index=False, encoding='utf-8-sig')"
   ]
  },
  {
   "cell_type": "markdown",
   "metadata": {},
   "source": [
    "_________________________________________________________________________________________________________________________________________________________________________________________\n",
    "\n",
    "Удаление дубликатов"
   ]
  },
  {
   "cell_type": "code",
   "execution_count": 49,
   "metadata": {},
   "outputs": [],
   "source": [
    "import pandas as pd\n",
    "\n",
    "path_base = \"base/base.csv\"\n",
    "\n",
    "data = pd.read_csv(path_base)\n",
    "data = data.drop_duplicates()\n",
    "data.to_csv(path_base, index=False)"
   ]
  }
 ],
 "metadata": {
  "kernelspec": {
   "display_name": ".venv",
   "language": "python",
   "name": "python3"
  },
  "language_info": {
   "codemirror_mode": {
    "name": "ipython",
    "version": 3
   },
   "file_extension": ".py",
   "mimetype": "text/x-python",
   "name": "python",
   "nbconvert_exporter": "python",
   "pygments_lexer": "ipython3",
   "version": "3.11.9"
  }
 },
 "nbformat": 4,
 "nbformat_minor": 2
}
